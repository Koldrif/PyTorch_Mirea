{
 "cells": [
  {
   "cell_type": "code",
   "execution_count": 3,
   "outputs": [],
   "source": [
    "from nn import *\n",
    "from autograd import *\n",
    "import numpy as np\n",
    "\n",
    "def loss(X, y, model, batch_size=None):\n",
    "\n",
    "    if batch_size is None:\n",
    "        Xb, yb = X, y\n",
    "    else:\n",
    "        ri = np.random.permutation(X.shape[0])[:batch_size]\n",
    "        Xb, yb = X[ri], y[ri]\n",
    "    inputs = [list(map(Value, xrow)) for xrow in Xb]\n",
    "\n",
    "    # forward the model to get scores\n",
    "    scores = list(map(model, inputs))\n",
    "\n",
    "    # svm \"max-margin\" loss\n",
    "    losses = [(1 + -yi*scorei).relu() for yi, scorei in zip(yb, scores)]\n",
    "    data_loss = sum(losses) * (1.0 / len(losses))\n",
    "    # L2 regularization\n",
    "    alpha = 1e-4\n",
    "    reg_loss = alpha * sum((p*p for p in model.parameters()))\n",
    "    total_loss = data_loss + reg_loss\n",
    "\n",
    "    # also get accuracy\n",
    "    accuracy = [((yi).__gt__(0)) == ((scorei.data).__gt__(0)) for yi, scorei in zip(yb, scores)]\n",
    "    return total_loss, sum(accuracy) / len(accuracy)"
   ],
   "metadata": {
    "collapsed": false
   }
  },
  {
   "cell_type": "code",
   "execution_count": 4,
   "outputs": [
    {
     "name": "stdout",
     "output_type": "stream",
     "text": [
      "MLP of [Layer of [ReLUNeuron(3), ReLUNeuron(3), ReLUNeuron(3), ReLUNeuron(3)], Layer of [ReLUNeuron(4), ReLUNeuron(4), ReLUNeuron(4), ReLUNeuron(4)], Layer of [LinearNeuron(4)]]\n",
      "number of parameters 41\n"
     ]
    }
   ],
   "source": [
    "\n",
    "nn = MLP(3, [4, 4, 1])\n",
    "print(nn)\n",
    "print(\"number of parameters\", len(nn.parameters()))"
   ],
   "metadata": {
    "collapsed": false
   }
  },
  {
   "cell_type": "code",
   "execution_count": 5,
   "outputs": [],
   "source": [
    "xs = [\n",
    "  [2.0, 3.0, -1.0],\n",
    "  [3.0, -1.0, 0.5],\n",
    "  [0.5, 1.0, 1.0],\n",
    "  [1.0, 1.0, -1.0],\n",
    "]\n",
    "ys = [1.0, -1.0, -1.0, 1.0] # desired targets"
   ],
   "metadata": {
    "collapsed": false
   }
  },
  {
   "cell_type": "code",
   "execution_count": 6,
   "outputs": [
    {
     "name": "stdout",
     "output_type": "stream",
     "text": [
      "step 0 loss 0.6146167998516016, accuracy 50.0%\n",
      "step 1 loss 1.210431884530747, accuracy 50.0%\n",
      "step 2 loss 0.5236152837800755, accuracy 100.0%\n",
      "step 3 loss 0.08343066833171889, accuracy 100.0%\n",
      "step 4 loss 0.0018937760999461859, accuracy 100.0%\n",
      "step 5 loss 0.0018930459302771885, accuracy 100.0%\n",
      "step 6 loss 0.0018923228557920315, accuracy 100.0%\n",
      "step 7 loss 0.0018916068685621995, accuracy 100.0%\n",
      "step 8 loss 0.0018908979607387506, accuracy 100.0%\n",
      "step 9 loss 0.0018901961245521663, accuracy 100.0%\n",
      "step 10 loss 0.001889501352312219, accuracy 100.0%\n",
      "step 11 loss 0.0018888136364078193, accuracy 100.0%\n",
      "step 12 loss 0.00188813296930689, accuracy 100.0%\n",
      "step 13 loss 0.001887459343556218, accuracy 100.0%\n",
      "step 14 loss 0.0018867927517813262, accuracy 100.0%\n",
      "step 15 loss 0.0018861331866863308, accuracy 100.0%\n",
      "step 16 loss 0.0018854806410538176, accuracy 100.0%\n",
      "step 17 loss 0.0018848351077447026, accuracy 100.0%\n",
      "step 18 loss 0.0018841965796981058, accuracy 100.0%\n",
      "step 19 loss 0.0018835650499312209, accuracy 100.0%\n"
     ]
    }
   ],
   "source": [
    "for k in range(20):\n",
    "\n",
    "    # forward\n",
    "    total_loss, acc = loss(xs, ys, nn)\n",
    "\n",
    "    # calculate loss (mean square error)\n",
    "    nn.zero_grad()\n",
    "    total_loss.backward()\n",
    "\n",
    "    # backward (zero_grad + backward)\n",
    "    ...\n",
    "\n",
    "    # update\n",
    "    learning_rate = 1.0 - 0.9*k/100\n",
    "    for p in nn.parameters():\n",
    "        p.data -= learning_rate * p.grad\n",
    "\n",
    "    if k % 1 == 0:\n",
    "        print(f\"step {k} loss {total_loss.data}, accuracy {acc*100}%\")"
   ],
   "metadata": {
    "collapsed": false
   }
  }
 ],
 "metadata": {
  "kernelspec": {
   "display_name": "Python 3",
   "language": "python",
   "name": "python3"
  },
  "language_info": {
   "codemirror_mode": {
    "name": "ipython",
    "version": 2
   },
   "file_extension": ".py",
   "mimetype": "text/x-python",
   "name": "python",
   "nbconvert_exporter": "python",
   "pygments_lexer": "ipython2",
   "version": "2.7.6"
  }
 },
 "nbformat": 4,
 "nbformat_minor": 0
}
